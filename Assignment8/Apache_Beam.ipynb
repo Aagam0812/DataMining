{
  "nbformat": 4,
  "nbformat_minor": 0,
  "metadata": {
    "colab": {
      "provenance": []
    },
    "kernelspec": {
      "name": "python3",
      "display_name": "Python 3"
    },
    "language_info": {
      "name": "python"
    }
  },
  "cells": [
    {
      "cell_type": "markdown",
      "source": [
        "##Scenario:\n",
        "\n",
        "We simulated logs from a website, containing user IDs, timestamps, and the type of action they performed (e.g., \"login\", \"view_item\", \"purchase\"). The main objectives were:\n",
        "\n",
        "* Count the number of each action type within a certain window.\n",
        "* Identify users who performed a \"login\" action followed by a \"purchase\" action within a 10-minute window.\n",
        "* Filter out any bots, assumed to be users with more than 100 actions within a 10-minute window.\n",
        "\n",
        "##Apache Beam Features Demonstrated:\n",
        "\n",
        "* Pipeline Creation: Established the foundation to build the data processing tasks.\n",
        "\n",
        "* Reading Data with IO: Utilized the beam.Create() method to ingest mock log data into the pipeline.\n",
        "\n",
        "* ParDo and DoFn: Demonstrated parallel processing by creating custom functions (DoFn) like FilterBots and FindLoginThenPurchase.\n",
        "\n",
        "* Windowing: Partitioned data into fixed 10-minute windows using beam.WindowInto(window.FixedWindows(600)).\n",
        "\n",
        "* Triggers: Introduced triggers to control when data in a window becomes available for downstream operations. Used a combination of AfterCount and AfterWatermark to specify conditions when the window data should be processed.\n",
        "\n",
        "* GroupByKey: Grouped data by user ID, allowing us to process all actions performed by each user within a window.\n",
        "\n",
        "* Composite Transforms: Created a composite transform CountWords to demonstrate how multiple transforms can be grouped into one logical operation.\n",
        "\n",
        "* Filtering and Mapping: Utilized beam.Map() and custom filtering functions to transform and filter data based on specific criteria.\n",
        "\n",
        "## Outcomes:\n",
        "\n",
        "1. Action Counts: The pipeline outputted counts for each action type within the specified window.\n",
        "\n",
        "2. User Identification: Identified and printed users who performed a \"login\" action followed by a \"purchase\" within the windowed timeframe.\n",
        "\n",
        "3. Bot Filtering: Successfully filtered out users (bots) performing an unusually high number of actions within the window."
      ],
      "metadata": {
        "id": "bJ9z2-toTXE2"
      }
    },
    {
      "cell_type": "code",
      "source": [
        "!pip install apache-beam"
      ],
      "metadata": {
        "colab": {
          "base_uri": "https://localhost:8080/"
        },
        "id": "6ERJqot1KhiG",
        "outputId": "91184c7b-0b60-467a-bf60-55681b78b739"
      },
      "execution_count": 4,
      "outputs": [
        {
          "output_type": "stream",
          "name": "stdout",
          "text": [
            "Collecting apache-beam\n",
            "  Downloading apache_beam-2.51.0-cp310-cp310-manylinux_2_17_x86_64.manylinux2014_x86_64.whl (14.7 MB)\n",
            "\u001b[2K     \u001b[90m━━━━━━━━━━━━━━━━━━━━━━━━━━━━━━━━━━━━━━━━\u001b[0m \u001b[32m14.7/14.7 MB\u001b[0m \u001b[31m63.3 MB/s\u001b[0m eta \u001b[36m0:00:00\u001b[0m\n",
            "\u001b[?25hCollecting crcmod<2.0,>=1.7 (from apache-beam)\n",
            "  Downloading crcmod-1.7.tar.gz (89 kB)\n",
            "\u001b[2K     \u001b[90m━━━━━━━━━━━━━━━━━━━━━━━━━━━━━━━━━━━━━━━━\u001b[0m \u001b[32m89.7/89.7 kB\u001b[0m \u001b[31m9.7 MB/s\u001b[0m eta \u001b[36m0:00:00\u001b[0m\n",
            "\u001b[?25h  Preparing metadata (setup.py) ... \u001b[?25l\u001b[?25hdone\n",
            "Collecting orjson<4,>=3.9.7 (from apache-beam)\n",
            "  Downloading orjson-3.9.9-cp310-cp310-manylinux_2_17_x86_64.manylinux2014_x86_64.whl (138 kB)\n",
            "\u001b[2K     \u001b[90m━━━━━━━━━━━━━━━━━━━━━━━━━━━━━━━━━━━━━━━━\u001b[0m \u001b[32m138.7/138.7 kB\u001b[0m \u001b[31m15.4 MB/s\u001b[0m eta \u001b[36m0:00:00\u001b[0m\n",
            "\u001b[?25hCollecting dill<0.3.2,>=0.3.1.1 (from apache-beam)\n",
            "  Downloading dill-0.3.1.1.tar.gz (151 kB)\n",
            "\u001b[2K     \u001b[90m━━━━━━━━━━━━━━━━━━━━━━━━━━━━━━━━━━━━━━━━\u001b[0m \u001b[32m152.0/152.0 kB\u001b[0m \u001b[31m16.5 MB/s\u001b[0m eta \u001b[36m0:00:00\u001b[0m\n",
            "\u001b[?25h  Preparing metadata (setup.py) ... \u001b[?25l\u001b[?25hdone\n",
            "Requirement already satisfied: cloudpickle~=2.2.1 in /usr/local/lib/python3.10/dist-packages (from apache-beam) (2.2.1)\n",
            "Collecting fastavro<2,>=0.23.6 (from apache-beam)\n",
            "  Downloading fastavro-1.8.4-cp310-cp310-manylinux_2_17_x86_64.manylinux2014_x86_64.whl (3.0 MB)\n",
            "\u001b[2K     \u001b[90m━━━━━━━━━━━━━━━━━━━━━━━━━━━━━━━━━━━━━━━━\u001b[0m \u001b[32m3.0/3.0 MB\u001b[0m \u001b[31m83.5 MB/s\u001b[0m eta \u001b[36m0:00:00\u001b[0m\n",
            "\u001b[?25hCollecting fasteners<1.0,>=0.3 (from apache-beam)\n",
            "  Downloading fasteners-0.19-py3-none-any.whl (18 kB)\n",
            "Requirement already satisfied: grpcio!=1.48.0,<2,>=1.33.1 in /usr/local/lib/python3.10/dist-packages (from apache-beam) (1.59.0)\n",
            "Collecting hdfs<3.0.0,>=2.1.0 (from apache-beam)\n",
            "  Downloading hdfs-2.7.3.tar.gz (43 kB)\n",
            "\u001b[2K     \u001b[90m━━━━━━━━━━━━━━━━━━━━━━━━━━━━━━━━━━━━━━━━\u001b[0m \u001b[32m43.5/43.5 kB\u001b[0m \u001b[31m3.9 MB/s\u001b[0m eta \u001b[36m0:00:00\u001b[0m\n",
            "\u001b[?25h  Preparing metadata (setup.py) ... \u001b[?25l\u001b[?25hdone\n",
            "Requirement already satisfied: httplib2<0.23.0,>=0.8 in /usr/local/lib/python3.10/dist-packages (from apache-beam) (0.22.0)\n",
            "Collecting js2py<1,>=0.74 (from apache-beam)\n",
            "  Downloading Js2Py-0.74-py3-none-any.whl (1.0 MB)\n",
            "\u001b[2K     \u001b[90m━━━━━━━━━━━━━━━━━━━━━━━━━━━━━━━━━━━━━━━━\u001b[0m \u001b[32m1.0/1.0 MB\u001b[0m \u001b[31m64.0 MB/s\u001b[0m eta \u001b[36m0:00:00\u001b[0m\n",
            "\u001b[?25hRequirement already satisfied: numpy<1.25.0,>=1.14.3 in /usr/local/lib/python3.10/dist-packages (from apache-beam) (1.23.5)\n",
            "Collecting objsize<0.7.0,>=0.6.1 (from apache-beam)\n",
            "  Downloading objsize-0.6.1-py3-none-any.whl (9.3 kB)\n",
            "Requirement already satisfied: packaging>=22.0 in /usr/local/lib/python3.10/dist-packages (from apache-beam) (23.2)\n",
            "Collecting pymongo<5.0.0,>=3.8.0 (from apache-beam)\n",
            "  Downloading pymongo-4.5.0-cp310-cp310-manylinux_2_17_x86_64.manylinux2014_x86_64.whl (671 kB)\n",
            "\u001b[2K     \u001b[90m━━━━━━━━━━━━━━━━━━━━━━━━━━━━━━━━━━━━━━━━\u001b[0m \u001b[32m671.3/671.3 kB\u001b[0m \u001b[31m50.3 MB/s\u001b[0m eta \u001b[36m0:00:00\u001b[0m\n",
            "\u001b[?25hRequirement already satisfied: proto-plus<2,>=1.7.1 in /usr/local/lib/python3.10/dist-packages (from apache-beam) (1.22.3)\n",
            "Requirement already satisfied: protobuf!=4.0.*,!=4.21.*,!=4.22.0,!=4.23.*,!=4.24.0,!=4.24.1,!=4.24.2,<4.25.0,>=3.20.3 in /usr/local/lib/python3.10/dist-packages (from apache-beam) (3.20.3)\n",
            "Requirement already satisfied: pydot<2,>=1.2.0 in /usr/local/lib/python3.10/dist-packages (from apache-beam) (1.4.2)\n",
            "Requirement already satisfied: python-dateutil<3,>=2.8.0 in /usr/local/lib/python3.10/dist-packages (from apache-beam) (2.8.2)\n",
            "Requirement already satisfied: pytz>=2018.3 in /usr/local/lib/python3.10/dist-packages (from apache-beam) (2023.3.post1)\n",
            "Requirement already satisfied: regex>=2020.6.8 in /usr/local/lib/python3.10/dist-packages (from apache-beam) (2023.6.3)\n",
            "Requirement already satisfied: requests<3.0.0,>=2.24.0 in /usr/local/lib/python3.10/dist-packages (from apache-beam) (2.31.0)\n",
            "Requirement already satisfied: typing-extensions>=3.7.0 in /usr/local/lib/python3.10/dist-packages (from apache-beam) (4.5.0)\n",
            "Collecting zstandard<1,>=0.18.0 (from apache-beam)\n",
            "  Downloading zstandard-0.21.0-cp310-cp310-manylinux_2_17_x86_64.manylinux2014_x86_64.whl (2.7 MB)\n",
            "\u001b[2K     \u001b[90m━━━━━━━━━━━━━━━━━━━━━━━━━━━━━━━━━━━━━━━━\u001b[0m \u001b[32m2.7/2.7 MB\u001b[0m \u001b[31m77.8 MB/s\u001b[0m eta \u001b[36m0:00:00\u001b[0m\n",
            "\u001b[?25hRequirement already satisfied: pyarrow<12.0.0,>=3.0.0 in /usr/local/lib/python3.10/dist-packages (from apache-beam) (9.0.0)\n",
            "Collecting docopt (from hdfs<3.0.0,>=2.1.0->apache-beam)\n",
            "  Downloading docopt-0.6.2.tar.gz (25 kB)\n",
            "  Preparing metadata (setup.py) ... \u001b[?25l\u001b[?25hdone\n",
            "Requirement already satisfied: six>=1.9.0 in /usr/local/lib/python3.10/dist-packages (from hdfs<3.0.0,>=2.1.0->apache-beam) (1.16.0)\n",
            "Requirement already satisfied: pyparsing!=3.0.0,!=3.0.1,!=3.0.2,!=3.0.3,<4,>=2.4.2 in /usr/local/lib/python3.10/dist-packages (from httplib2<0.23.0,>=0.8->apache-beam) (3.1.1)\n",
            "Requirement already satisfied: tzlocal>=1.2 in /usr/local/lib/python3.10/dist-packages (from js2py<1,>=0.74->apache-beam) (5.1)\n",
            "Collecting pyjsparser>=2.5.1 (from js2py<1,>=0.74->apache-beam)\n",
            "  Downloading pyjsparser-2.7.1.tar.gz (24 kB)\n",
            "  Preparing metadata (setup.py) ... \u001b[?25l\u001b[?25hdone\n",
            "Collecting dnspython<3.0.0,>=1.16.0 (from pymongo<5.0.0,>=3.8.0->apache-beam)\n",
            "  Downloading dnspython-2.4.2-py3-none-any.whl (300 kB)\n",
            "\u001b[2K     \u001b[90m━━━━━━━━━━━━━━━━━━━━━━━━━━━━━━━━━━━━━━━━\u001b[0m \u001b[32m300.4/300.4 kB\u001b[0m \u001b[31m27.3 MB/s\u001b[0m eta \u001b[36m0:00:00\u001b[0m\n",
            "\u001b[?25hRequirement already satisfied: charset-normalizer<4,>=2 in /usr/local/lib/python3.10/dist-packages (from requests<3.0.0,>=2.24.0->apache-beam) (3.3.0)\n",
            "Requirement already satisfied: idna<4,>=2.5 in /usr/local/lib/python3.10/dist-packages (from requests<3.0.0,>=2.24.0->apache-beam) (3.4)\n",
            "Requirement already satisfied: urllib3<3,>=1.21.1 in /usr/local/lib/python3.10/dist-packages (from requests<3.0.0,>=2.24.0->apache-beam) (2.0.7)\n",
            "Requirement already satisfied: certifi>=2017.4.17 in /usr/local/lib/python3.10/dist-packages (from requests<3.0.0,>=2.24.0->apache-beam) (2023.7.22)\n",
            "Building wheels for collected packages: crcmod, dill, hdfs, pyjsparser, docopt\n",
            "  Building wheel for crcmod (setup.py) ... \u001b[?25l\u001b[?25hdone\n",
            "  Created wheel for crcmod: filename=crcmod-1.7-cp310-cp310-linux_x86_64.whl size=31409 sha256=516474723117d7c48ec533b5db9983e7076418d2c254b1d1fb9b6ab0b940c3fa\n",
            "  Stored in directory: /root/.cache/pip/wheels/85/4c/07/72215c529bd59d67e3dac29711d7aba1b692f543c808ba9e86\n",
            "  Building wheel for dill (setup.py) ... \u001b[?25l\u001b[?25hdone\n",
            "  Created wheel for dill: filename=dill-0.3.1.1-py3-none-any.whl size=78542 sha256=16009148adcea7bf292bbdc3b1d27eefa60ce8d049a7dc05daeaa469c0743fef\n",
            "  Stored in directory: /root/.cache/pip/wheels/ea/e2/86/64980d90e297e7bf2ce588c2b96e818f5399c515c4bb8a7e4f\n",
            "  Building wheel for hdfs (setup.py) ... \u001b[?25l\u001b[?25hdone\n",
            "  Created wheel for hdfs: filename=hdfs-2.7.3-py3-none-any.whl size=34325 sha256=697020bbea00bb8105ddc288b9c7c2a131013399f499c897901fc632a77e77e4\n",
            "  Stored in directory: /root/.cache/pip/wheels/e5/8d/b6/99c1c0a3ac5788c866b0ecd3f48b0134a5910e6ed26011800b\n",
            "  Building wheel for pyjsparser (setup.py) ... \u001b[?25l\u001b[?25hdone\n",
            "  Created wheel for pyjsparser: filename=pyjsparser-2.7.1-py3-none-any.whl size=25982 sha256=a4fd7f9176e7e905e353d3727792efe5eada64b32b6229bc089d1d8f29a2685e\n",
            "  Stored in directory: /root/.cache/pip/wheels/5e/81/26/5956478df303e2bf5a85a5df595bb307bd25948a4bab69f7c7\n",
            "  Building wheel for docopt (setup.py) ... \u001b[?25l\u001b[?25hdone\n",
            "  Created wheel for docopt: filename=docopt-0.6.2-py2.py3-none-any.whl size=13705 sha256=23bf8cba92c8909a775ec56636dcbe9a2a2c12c1e2bc8a934412c35774918982\n",
            "  Stored in directory: /root/.cache/pip/wheels/fc/ab/d4/5da2067ac95b36618c629a5f93f809425700506f72c9732fac\n",
            "Successfully built crcmod dill hdfs pyjsparser docopt\n",
            "Installing collected packages: pyjsparser, docopt, crcmod, zstandard, orjson, objsize, js2py, fasteners, fastavro, dnspython, dill, pymongo, hdfs, apache-beam\n",
            "Successfully installed apache-beam-2.51.0 crcmod-1.7 dill-0.3.1.1 dnspython-2.4.2 docopt-0.6.2 fastavro-1.8.4 fasteners-0.19 hdfs-2.7.3 js2py-0.74 objsize-0.6.1 orjson-3.9.9 pyjsparser-2.7.1 pymongo-4.5.0 zstandard-0.21.0\n"
          ]
        }
      ]
    },
    {
      "cell_type": "code",
      "source": [
        "import apache_beam as beam\n",
        "from apache_beam import window\n",
        "from apache_beam.transforms import PTransform, ParDo, DoFn, window"
      ],
      "metadata": {
        "id": "c64ssg8US4m7"
      },
      "execution_count": 13,
      "outputs": []
    },
    {
      "cell_type": "code",
      "source": [
        "class FilterBots(DoFn):\n",
        "    def process(self, element, window=beam.DoFn.WindowParam):\n",
        "        user, actions = element\n",
        "        if len(actions) <= 100:\n",
        "            yield user, actions"
      ],
      "metadata": {
        "id": "YqQcj2KwS-ii"
      },
      "execution_count": 14,
      "outputs": []
    },
    {
      "cell_type": "code",
      "source": [
        "class FindLoginThenPurchase(DoFn):\n",
        "    def process(self, element):\n",
        "        user, actions = element\n",
        "        actions.sort(key=lambda x: x[1])\n",
        "        for i in range(len(actions) - 1):\n",
        "            if actions[i][0] == 'login' and actions[i + 1][0] == 'purchase' and (actions[i + 1][1] - actions[i][1]) <= 600:\n",
        "                yield user"
      ],
      "metadata": {
        "id": "9T1uge6PS_fD"
      },
      "execution_count": 15,
      "outputs": []
    },
    {
      "cell_type": "code",
      "source": [
        "def main():\n",
        "    with beam.Pipeline(options=beam.options.pipeline_options.PipelineOptions(['--allow_unsafe_triggers'])) as pipeline:\n",
        "        raw_data = [\n",
        "            (\"user1\", \"login\", 10),\n",
        "            (\"user1\", \"view_item\", 15),\n",
        "            (\"user1\", \"purchase\", 30),\n",
        "            (\"user2\", \"login\", 50),\n",
        "            (\"user2\", \"purchase\", 55),\n",
        "            (\"bot1\", \"view_item\", 10)] + [(\"bot1\", \"view_item\", i) for i in range(11, 112)]\n",
        "\n",
        "        actions = (\n",
        "            pipeline\n",
        "            | 'ReadData' >> beam.Create(raw_data)\n",
        "            | 'AssignTimestamps' >> beam.Map(lambda x: window.TimestampedValue(x, x[2]))\n",
        "            | 'WindowInto' >> beam.WindowInto(\n",
        "                window.FixedWindows(600),\n",
        "                trigger=beam.trigger.AfterAny(beam.trigger.AfterCount(5), beam.trigger.AfterWatermark()),\n",
        "                accumulation_mode=beam.trigger.AccumulationMode.DISCARDING\n",
        "            )\n",
        "        )\n",
        "\n",
        "\n",
        "        ''' PairWithOne: We transform our data into key-value pairs where the key is the action type and the value is 1.\n",
        "            GroupAndSum: We use CombinePerKey(sum) to group our data by action type and sum up the values. This gives us the count of each action type.\n",
        "            PrintActionCounts: We print out the results. '''\n",
        "\n",
        "        action_counts = (\n",
        "            actions\n",
        "            | 'PairWithOne' >> beam.Map(lambda x: (x[1], 1))\n",
        "            | 'GroupAndSum' >> beam.CombinePerKey(sum)\n",
        "            | 'PrintActionCounts' >> beam.Map(print)\n",
        "        )\n",
        "\n",
        "        ''' ToUserAction: We transform our data into key-value pairs where the key is the user ID and the value is a tuple containing the action type and timestamp.\n",
        "            GroupByUser: We group our data by user ID, so we have a list of all actions performed by each user within the 10-minute window.\n",
        "            FilterBots: We filter out any users (bots) that performed more than 100 actions in the 10-minute window.\n",
        "            FindLoginThenPurchase: We iterate through each user's actions and find sequences of \"login\" followed by \"purchase\" within the 10-minute window.\n",
        "            PrintUsers: We print out the user IDs that match the criteria. '''\n",
        "\n",
        "        users_login_then_purchase = (\n",
        "            actions\n",
        "            | 'ToUserAction' >> beam.Map(lambda x: (x[0], (x[1], x[2])))\n",
        "            | 'GroupByUser' >> beam.GroupByKey()\n",
        "            | 'FilterBots' >> ParDo(FilterBots())\n",
        "            | 'FindLoginThenPurchase' >> ParDo(FindLoginThenPurchase())\n",
        "            | 'PrintUsers' >> beam.Map(lambda x: print(f\"User {x} made a login followed by a purchase within 10 minutes\"))\n",
        "        )\n",
        "\n",
        "if __name__ == \"__main__\":\n",
        "    main()"
      ],
      "metadata": {
        "colab": {
          "base_uri": "https://localhost:8080/"
        },
        "id": "gj43811YTD05",
        "outputId": "b814ee79-031c-4abc-895d-dcbadd14c809"
      },
      "execution_count": 16,
      "outputs": [
        {
          "output_type": "stream",
          "name": "stderr",
          "text": [
            "WARNING:apache_beam.transforms.core:GroupByKey: Unsafe trigger `AfterAny(AfterCount(5), AfterWatermark())` detected (reason: MAY_FINISH). This is being allowed because --allow_unsafe_triggers is set. This could lead to missing or incomplete groups.\n",
            "WARNING:apache_beam.transforms.core:GroupByUser: Unsafe trigger `AfterAny(AfterCount(5), AfterWatermark())` detected (reason: MAY_FINISH). This is being allowed because --allow_unsafe_triggers is set. This could lead to missing or incomplete groups.\n"
          ]
        },
        {
          "output_type": "stream",
          "name": "stdout",
          "text": [
            "('login', 2)\n",
            "('view_item', 103)\n",
            "('purchase', 2)\n",
            "User user2 made a login followed by a purchase within 10 minutes\n"
          ]
        }
      ]
    },
    {
      "cell_type": "markdown",
      "source": [
        "## Working\n",
        "\n",
        "1. We first create a simulated log with users and a bot. Each log entry contains a user ID, an action, and a timestamp.\n",
        "2. We apply timestamps to each log entry and window the data into 10-minute windows.\n",
        "3.We apply triggers that for every 10-minute window, if there are at least 5 actions, the window's data will be processed immediately after the 5th action. If the window doesn't accumulate 5 actions, its data will be processed at the end of the 10-minute duration.\n",
        "4. The action_counts pipeline counts the occurrences of each action type within the window.\n",
        "5. The users_login_then_purchase pipeline first groups actions by user. Then, it filters out bots using the FilterBots ParDo. After that, it uses the FindLoginThenPurchase ParDo to find users who made a login action followed by a purchase within 10 minutes."
      ],
      "metadata": {
        "id": "rLlr93wyU6Nf"
      }
    }
  ]
}