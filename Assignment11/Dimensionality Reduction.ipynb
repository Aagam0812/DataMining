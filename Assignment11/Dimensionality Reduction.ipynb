{
 "cells": [
  {
   "cell_type": "code",
   "execution_count": 0,
   "metadata": {
    "application/vnd.databricks.v1+cell": {
     "cellMetadata": {
      "byteLimit": 2048000,
      "rowLimit": 10000
     },
     "inputWidgets": {},
     "nuid": "064a45d3-73b8-4917-8afa-4dd94e8f1b40",
     "showTitle": false,
     "title": ""
    }
   },
   "outputs": [],
   "source": [
    "## Step 1: Importing Libraries\n",
    "from pyspark.sql import SparkSession\n",
    "from pyspark.ml.feature import VectorAssembler\n",
    "from pyspark.ml.feature import PCA\n",
    "from pyspark.ml.feature import Imputer, StandardScaler\n",
    "from pyspark.ml import Pipeline\n",
    "from pyspark.sql.functions import col"
   ]
  },
  {
   "cell_type": "code",
   "execution_count": 0,
   "metadata": {
    "application/vnd.databricks.v1+cell": {
     "cellMetadata": {
      "byteLimit": 2048000,
      "rowLimit": 10000
     },
     "inputWidgets": {},
     "nuid": "85c2833f-57d7-4745-9d74-c54eb28ecc77",
     "showTitle": false,
     "title": ""
    }
   },
   "outputs": [],
   "source": [
    "## Step 2: Initializing Spark Session\n",
    "spark = SparkSession.builder.appName(\"DimensionalityReduction\").getOrCreate()"
   ]
  },
  {
   "cell_type": "code",
   "execution_count": 0,
   "metadata": {
    "application/vnd.databricks.v1+cell": {
     "cellMetadata": {
      "byteLimit": 2048000,
      "rowLimit": 10000
     },
     "inputWidgets": {},
     "nuid": "5c2fbe8c-1832-4807-9c38-5cefc06d7d37",
     "showTitle": false,
     "title": ""
    }
   },
   "outputs": [
    {
     "output_type": "stream",
     "name": "stdout",
     "output_type": "stream",
     "text": [
      "+-----+--------+--------------------+-----+--------------------+--------------------+--------------------+--------------------+--------------------+-----------------+----------+\n|index|      id|               title| type|         description|        release_year|   age_certification|             runtime|             imdb_id|       imdb_score|imdb_votes|\n+-----+--------+--------------------+-----+--------------------+--------------------+--------------------+--------------------+--------------------+-----------------+----------+\n|    0| tm84618|         Taxi Driver|MOVIE|A mentally unstab...|                1976|                   R|                 113|           tt0075314|              8.3|  795222.0|\n|    1|tm127384|Monty Python and ...|MOVIE|\"King Arthur, acc...|                1975|                  PG|                  91|           tt0071853|8.199999999999998|  530877.0|\n|    2| tm70993|       Life of Brian|MOVIE|Brian Cohen is an...|                1979|                   R|                  94|           tt0079470|              8.0|  392419.0|\n|    3|tm190788|        The Exorcist|MOVIE|12-year-old Regan...|                1973|                   R|                 133|           tt0070047|              8.1|  391942.0|\n|    4| ts22164|Monty Python's Fl...| SHOW|A British sketch ...|                1969|               TV-14|                  30|           tt0063929|              8.8|   72895.0|\n|    5| tm14873|         Dirty Harry|MOVIE|When a madman dub...|                1971|                   R|                 102|           tt0066999|              7.7|  153463.0|\n|    6|tm185072|        My Fair Lady|MOVIE|A snobbish phonet...|                1964|                   G|                 170|           tt0058385|              7.8|   94121.0|\n|    7| tm98978|     The Blue Lagoon|MOVIE|Two small childre...|                1980|                   R|                 104|           tt0080453|              5.8|   69053.0|\n|    8|tm119281|    Bonnie and Clyde|MOVIE|In the 1930s, bor...|                1967|                   R|                 110|           tt0061418|              7.7|  111189.0|\n|    9| tm67378|   The Professionals|MOVIE|An arrogant Texas...|                1966|               PG-13|                 117|           tt0060862|              7.3|   16168.0|\n|   10| tm44204|The Guns of Navarone|MOVIE|A team of allied ...|                1961|                null|                 158|           tt0054953|              7.5|   50150.0|\n|   11| tm69778|Lupin the Third: ...|MOVIE|After a successfu...|                1979|                  PG|                 100|           tt0079833|              7.6|   30277.0|\n|   12| tm69997|Richard Pryor: Li...|MOVIE|Richard Pryor del...|                1979|                   R|                  78|           tt0079807|              8.1|    5141.0|\n|   13| tm96649|     The Long Riders|MOVIE|The origins, expl...|                1980|                   R|                  99|           tt0081071|              6.9|   11329.0|\n|   14| tm16479|     White Christmas|MOVIE|Two talented song...|                1954|                null|                 115|           tt0047673|              7.5|   42373.0|\n|   15|tm135083|       Cairo Station|MOVIE|Qinawi, a physica...|                1958|                null|                  77|           tt0051390|              7.5|    4385.0|\n|   16| tm14491|           The Queen|MOVIE|In 1967, New York...|                1968|                null|                  68|           tt0183686|              7.2|    1117.0|\n|   17| tm89386|    Hitler: A Career|MOVIE|A keen chronicle ...|                1977|                  PG|                 150|           tt0191182|              7.5|    2416.0|\n|   18|tm156453|                 FTA|MOVIE|\"A documentary ab...| which stood for ...| and was aimed at...| which was raging...| actors and other...|             1972|         R|\n|   19| tm27298|Saladin the Victo...|MOVIE|Saladin, the firs...|                1963|                null|                 186|           tt0057357|              7.6|    2470.0|\n+-----+--------+--------------------+-----+--------------------+--------------------+--------------------+--------------------+--------------------+-----------------+----------+\nonly showing top 20 rows\n\n"
     ]
    }
   ],
   "source": [
    "## Step 3: Loading the Dataset\n",
    "file_path = \"/FileStore/tables/Netflix_TV_Shows_and_Movies.csv\" \n",
    "df = spark.read.csv(file_path, header=True, inferSchema=True)\n",
    "df.show()"
   ]
  },
  {
   "cell_type": "code",
   "execution_count": 0,
   "metadata": {
    "application/vnd.databricks.v1+cell": {
     "cellMetadata": {
      "byteLimit": 2048000,
      "rowLimit": 10000
     },
     "inputWidgets": {},
     "nuid": "f3986c37-50eb-4655-bb5e-9aa722cabfa9",
     "showTitle": false,
     "title": ""
    }
   },
   "outputs": [
    {
     "output_type": "stream",
     "name": "stdout",
     "output_type": "stream",
     "text": [
      "root\n |-- index: string (nullable = true)\n |-- id: string (nullable = true)\n |-- title: string (nullable = true)\n |-- type: string (nullable = true)\n |-- description: string (nullable = true)\n |-- release_year: string (nullable = true)\n |-- age_certification: string (nullable = true)\n |-- runtime: string (nullable = true)\n |-- imdb_id: string (nullable = true)\n |-- imdb_score: string (nullable = true)\n |-- imdb_votes: string (nullable = true)\n\n+-----+--------+--------------------+-----+--------------------+------------+-----------------+-------+---------+-----------------+----------+\n|index|      id|               title| type|         description|release_year|age_certification|runtime|  imdb_id|       imdb_score|imdb_votes|\n+-----+--------+--------------------+-----+--------------------+------------+-----------------+-------+---------+-----------------+----------+\n|    0| tm84618|         Taxi Driver|MOVIE|A mentally unstab...|        1976|                R|    113|tt0075314|              8.3|  795222.0|\n|    1|tm127384|Monty Python and ...|MOVIE|\"King Arthur, acc...|        1975|               PG|     91|tt0071853|8.199999999999998|  530877.0|\n|    2| tm70993|       Life of Brian|MOVIE|Brian Cohen is an...|        1979|                R|     94|tt0079470|              8.0|  392419.0|\n|    3|tm190788|        The Exorcist|MOVIE|12-year-old Regan...|        1973|                R|    133|tt0070047|              8.1|  391942.0|\n|    4| ts22164|Monty Python's Fl...| SHOW|A British sketch ...|        1969|            TV-14|     30|tt0063929|              8.8|   72895.0|\n+-----+--------+--------------------+-----+--------------------+------------+-----------------+-------+---------+-----------------+----------+\nonly showing top 5 rows\n\n"
     ]
    }
   ],
   "source": [
    "## Step 4: Inspecting the Data\n",
    "\n",
    "# Print the schema of the dataframe\n",
    "df.printSchema()\n",
    "\n",
    "# Show a sample of the data\n",
    "df.show(5)"
   ]
  },
  {
   "cell_type": "code",
   "execution_count": 0,
   "metadata": {
    "application/vnd.databricks.v1+cell": {
     "cellMetadata": {
      "byteLimit": 2048000,
      "rowLimit": 10000
     },
     "inputWidgets": {},
     "nuid": "2ca14999-aae8-4c73-9fff-bbd2c9dc0653",
     "showTitle": false,
     "title": ""
    }
   },
   "outputs": [],
   "source": [
    "# Casting columns to appropriate types\n",
    "df = df.withColumn(\"release_year\", col(\"release_year\").cast(\"integer\"))\n",
    "df = df.withColumn(\"runtime\", col(\"runtime\").cast(\"integer\"))\n",
    "df = df.withColumn(\"imdb_score\", col(\"imdb_score\").cast(\"float\"))\n",
    "df = df.withColumn(\"imdb_votes\", col(\"imdb_votes\").cast(\"float\"))\n",
    "# Selecting numerical columns\n",
    "numerical_cols = ['release_year', 'runtime', 'imdb_score', 'imdb_votes']\n",
    "\n",
    "# Impute missing values\n",
    "imputer = Imputer(inputCols=numerical_cols, outputCols=numerical_cols).setStrategy(\"mean\")\n",
    "\n"
   ]
  },
  {
   "cell_type": "code",
   "execution_count": 0,
   "metadata": {
    "application/vnd.databricks.v1+cell": {
     "cellMetadata": {
      "byteLimit": 2048000,
      "rowLimit": 10000
     },
     "inputWidgets": {},
     "nuid": "2ce337f3-a640-44fa-a00e-a3261084b4ec",
     "showTitle": false,
     "title": ""
    }
   },
   "outputs": [],
   "source": [
    "# Assemble the vector\n",
    "assembler = VectorAssembler(inputCols=numerical_cols, outputCol=\"features\")\n",
    "\n",
    "# Standardize the features\n",
    "scaler = StandardScaler(inputCol=\"features\", outputCol=\"scaled_features\")\n",
    "\n",
    "# Pipeline for preprocessing\n",
    "preprocessing_pipeline = Pipeline(stages=[imputer, assembler, scaler])\n",
    "model = preprocessing_pipeline.fit(df)\n",
    "scaled_data = model.transform(df)\n"
   ]
  },
  {
   "cell_type": "code",
   "execution_count": 0,
   "metadata": {
    "application/vnd.databricks.v1+cell": {
     "cellMetadata": {
      "byteLimit": 2048000,
      "rowLimit": 10000
     },
     "inputWidgets": {},
     "nuid": "bdefbfaf-f7ad-4383-81cc-99cd37c18136",
     "showTitle": false,
     "title": ""
    }
   },
   "outputs": [],
   "source": [
    "from pyspark.ml.feature import PCA\n",
    "\n",
    "# Applying PCA\n",
    "pca = PCA(k=3, inputCol=\"scaled_features\", outputCol=\"pca_features\")\n",
    "pca_model = pca.fit(scaled_data)\n",
    "result = pca_model.transform(scaled_data).select(\"pca_features\")\n",
    "\n",
    "# Collecting data for visualization (in local environment)\n",
    "pca_output = result.collect()\n"
   ]
  },
  {
   "cell_type": "code",
   "execution_count": 0,
   "metadata": {
    "application/vnd.databricks.v1+cell": {
     "cellMetadata": {
      "byteLimit": 2048000,
      "rowLimit": 10000
     },
     "inputWidgets": {},
     "nuid": "e23b8fbe-aaf0-4274-bfa7-a274f50e609b",
     "showTitle": false,
     "title": ""
    }
   },
   "outputs": [
    {
     "output_type": "display_data",
     "data": {
      "image/png": "[encoded data removed]"
     },
     "metadata": {
      "application/vnd.databricks.v1+output": {
       "addedWidgets": {},
       "arguments": {},
       "data": "data:image/png;base64,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\n",
       "datasetInfos": [],
       "metadata": {},
       "removedWidgets": [],
       "type": "image"
      }
     },
     "output_type": "display_data"
    }
   ],
   "source": [
    "import matplotlib.pyplot as plt\n",
    "\n",
    "\n",
    "# Extracting PCA features\n",
    "pca_features = [row['pca_features'] for row in pca_output]\n",
    "x = [feat[0] for feat in pca_features]  # First principal component\n",
    "y = [feat[1] for feat in pca_features]  # Second principal component\n",
    "\n",
    "# Plotting\n",
    "plt.figure(figsize=(10, 6))\n",
    "plt.scatter(x, y, alpha=0.5)\n",
    "plt.title('PCA of Netflix Dataset')\n",
    "plt.xlabel('Principal Component 1')\n",
    "plt.ylabel('Principal Component 2')\n",
    "plt.show()\n"
   ]
  }
 ],
 "metadata": {
  "application/vnd.databricks.v1+notebook": {
   "dashboards": [],
   "language": "python",
   "notebookMetadata": {
    "pythonIndentUnit": 4
   },
   "notebookName": "Dimensionality Reduction",
   "widgets": {}
  }
 },
 "nbformat": 4,
 "nbformat_minor": 0
}
