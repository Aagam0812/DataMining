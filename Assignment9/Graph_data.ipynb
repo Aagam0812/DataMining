{
  "nbformat": 4,
  "nbformat_minor": 0,
  "metadata": {
    "colab": {
      "provenance": [],
      "gpuType": "T4"
    },
    "kernelspec": {
      "name": "python3",
      "display_name": "Python 3"
    },
    "language_info": {
      "name": "python"
    },
    "accelerator": "GPU"
  },
  "cells": [
    {
      "cell_type": "markdown",
      "source": [
        "# Graph Data\n",
        "[![Open In Colab](https://colab.research.google.com/assets/colab-badge.svg)](https://colab.research.google.com/github/Aagam0812/DataMining/blob/main/Assignment9/Graph_data.ipynb)"
      ],
      "metadata": {
        "id": "SdCwL0yFcDCJ"
      }
    },
    {
      "cell_type": "code",
      "source": [
        "from google.colab import drive\n",
        "drive.mount(\"/content/gdrive\")"
      ],
      "metadata": {
        "colab": {
          "base_uri": "https://localhost:8080/"
        },
        "id": "SZhXPsCQcJuJ",
        "outputId": "cb2a1ea9-5281-42f0-991a-6baa3ee52fea"
      },
      "execution_count": 1,
      "outputs": [
        {
          "output_type": "stream",
          "name": "stdout",
          "text": [
            "Mounted at /content/gdrive\n"
          ]
        }
      ]
    },
    {
      "cell_type": "markdown",
      "source": [
        "  # Step: 1 Data Loading and Initial Exploration:\n",
        "We'll start by unzipping the uploaded file and checking the directory structure. Then, We'll perform an initial inspection."
      ],
      "metadata": {
        "id": "e_ya6t0wcg7H"
      }
    },
    {
      "cell_type": "code",
      "execution_count": 2,
      "metadata": {
        "colab": {
          "base_uri": "https://localhost:8080/"
        },
        "id": "n1VYFnPIZc1F",
        "outputId": "4a3a6480-3f69-4317-91c1-5fbd15de8e03"
      },
      "outputs": [
        {
          "output_type": "execute_result",
          "data": {
            "text/plain": [
              "['web-Google.txt', 'web-Google.txt.gz']"
            ]
          },
          "metadata": {},
          "execution_count": 2
        }
      ],
      "source": [
        "import zipfile\n",
        "import os\n",
        "\n",
        "# Unzipping the file\n",
        "zip_path = \"/content/gdrive/MyDrive/DataMining/GTFS_Graph.zip\"\n",
        "extract_path = \"/content/gdrive/MyDrive/DataMining/Graph\"\n",
        "with zipfile.ZipFile(zip_path, 'r') as zip_ref:\n",
        "    zip_ref.extractall(extract_path)\n",
        "\n",
        "# Checking the files inside the unzipped directory\n",
        "files = os.listdir(extract_path)\n",
        "files\n"
      ]
    },
    {
      "cell_type": "code",
      "source": [
        "# Reading the first few lines of the 'web-Google.txt' file to understand its structure\n",
        "file_path = os.path.join(extract_path, 'web-Google.txt')\n",
        "with open(file_path, 'r') as file:\n",
        "    lines = [file.readline().strip() for _ in range(10)]\n",
        "\n",
        "lines\n"
      ],
      "metadata": {
        "colab": {
          "base_uri": "https://localhost:8080/"
        },
        "id": "2jY7J8mmcV2g",
        "outputId": "ba18e6cd-6c27-4e17-931b-13a197efd26b"
      },
      "execution_count": 3,
      "outputs": [
        {
          "output_type": "execute_result",
          "data": {
            "text/plain": [
              "['# Directed graph (each unordered pair of nodes is saved once): web-Google.txt',\n",
              " '# Webgraph from the Google programming contest, 2002',\n",
              " '# Nodes: 875713 Edges: 5105039',\n",
              " '# FromNodeId\\tToNodeId',\n",
              " '0\\t11342',\n",
              " '0\\t824020',\n",
              " '0\\t867923',\n",
              " '0\\t891835',\n",
              " '11342\\t0',\n",
              " '11342\\t27469']"
            ]
          },
          "metadata": {},
          "execution_count": 3
        }
      ]
    },
    {
      "cell_type": "markdown",
      "source": [
        "From the initial lines of the dataset, we can infer the following:\n",
        "\n",
        "The dataset represents a directed graph.\n",
        "It originates from the Google programming contest in 2002.\n",
        "\n",
        "It contains 875,713 nodes and 5,105,039 edges.\n",
        "\n",
        "The data starts from the 5th line, with the columns representing \"FromNodeId\" and \"ToNodeId\".\n",
        "\n",
        "With this understanding, we can now proceed to load the data into a DataFrame for further analysis."
      ],
      "metadata": {
        "id": "99Ub2WoZcYe9"
      }
    },
    {
      "cell_type": "code",
      "source": [
        "import pandas as pd\n",
        "\n",
        "# Loading the data into a DataFrame, skipping the initial descriptive rows\n",
        "df = pd.read_csv(file_path, sep='\\t', skiprows=4, header=None, names=['FromNodeId', 'ToNodeId'])\n",
        "\n",
        "# Displaying the first few rows of the DataFrame\n",
        "df.head()\n"
      ],
      "metadata": {
        "colab": {
          "base_uri": "https://localhost:8080/",
          "height": 206
        },
        "id": "vluhKPv3ccp7",
        "outputId": "8b47f9a5-d630-45c5-cd80-0ad95a7a826d"
      },
      "execution_count": 4,
      "outputs": [
        {
          "output_type": "execute_result",
          "data": {
            "text/plain": [
              "   FromNodeId  ToNodeId\n",
              "0           0     11342\n",
              "1           0    824020\n",
              "2           0    867923\n",
              "3           0    891835\n",
              "4       11342         0"
            ],
            "text/html": [
              "\n",
              "  <div id=\"df-9d749ecf-cd3f-4f9e-8432-02233ed146dd\" class=\"colab-df-container\">\n",
              "    <div>\n",
              "<style scoped>\n",
              "    .dataframe tbody tr th:only-of-type {\n",
              "        vertical-align: middle;\n",
              "    }\n",
              "\n",
              "    .dataframe tbody tr th {\n",
              "        vertical-align: top;\n",
              "    }\n",
              "\n",
              "    .dataframe thead th {\n",
              "        text-align: right;\n",
              "    }\n",
              "</style>\n",
              "<table border=\"1\" class=\"dataframe\">\n",
              "  <thead>\n",
              "    <tr style=\"text-align: right;\">\n",
              "      <th></th>\n",
              "      <th>FromNodeId</th>\n",
              "      <th>ToNodeId</th>\n",
              "    </tr>\n",
              "  </thead>\n",
              "  <tbody>\n",
              "    <tr>\n",
              "      <th>0</th>\n",
              "      <td>0</td>\n",
              "      <td>11342</td>\n",
              "    </tr>\n",
              "    <tr>\n",
              "      <th>1</th>\n",
              "      <td>0</td>\n",
              "      <td>824020</td>\n",
              "    </tr>\n",
              "    <tr>\n",
              "      <th>2</th>\n",
              "      <td>0</td>\n",
              "      <td>867923</td>\n",
              "    </tr>\n",
              "    <tr>\n",
              "      <th>3</th>\n",
              "      <td>0</td>\n",
              "      <td>891835</td>\n",
              "    </tr>\n",
              "    <tr>\n",
              "      <th>4</th>\n",
              "      <td>11342</td>\n",
              "      <td>0</td>\n",
              "    </tr>\n",
              "  </tbody>\n",
              "</table>\n",
              "</div>\n",
              "    <div class=\"colab-df-buttons\">\n",
              "\n",
              "  <div class=\"colab-df-container\">\n",
              "    <button class=\"colab-df-convert\" onclick=\"convertToInteractive('df-9d749ecf-cd3f-4f9e-8432-02233ed146dd')\"\n",
              "            title=\"Convert this dataframe to an interactive table.\"\n",
              "            style=\"display:none;\">\n",
              "\n",
              "  <svg xmlns=\"http://www.w3.org/2000/svg\" height=\"24px\" viewBox=\"0 -960 960 960\">\n",
              "    <path d=\"M120-120v-720h720v720H120Zm60-500h600v-160H180v160Zm220 220h160v-160H400v160Zm0 220h160v-160H400v160ZM180-400h160v-160H180v160Zm440 0h160v-160H620v160ZM180-180h160v-160H180v160Zm440 0h160v-160H620v160Z\"/>\n",
              "  </svg>\n",
              "    </button>\n",
              "\n",
              "  <style>\n",
              "    .colab-df-container {\n",
              "      display:flex;\n",
              "      gap: 12px;\n",
              "    }\n",
              "\n",
              "    .colab-df-convert {\n",
              "      background-color: #E8F0FE;\n",
              "      border: none;\n",
              "      border-radius: 50%;\n",
              "      cursor: pointer;\n",
              "      display: none;\n",
              "      fill: #1967D2;\n",
              "      height: 32px;\n",
              "      padding: 0 0 0 0;\n",
              "      width: 32px;\n",
              "    }\n",
              "\n",
              "    .colab-df-convert:hover {\n",
              "      background-color: #E2EBFA;\n",
              "      box-shadow: 0px 1px 2px rgba(60, 64, 67, 0.3), 0px 1px 3px 1px rgba(60, 64, 67, 0.15);\n",
              "      fill: #174EA6;\n",
              "    }\n",
              "\n",
              "    .colab-df-buttons div {\n",
              "      margin-bottom: 4px;\n",
              "    }\n",
              "\n",
              "    [theme=dark] .colab-df-convert {\n",
              "      background-color: #3B4455;\n",
              "      fill: #D2E3FC;\n",
              "    }\n",
              "\n",
              "    [theme=dark] .colab-df-convert:hover {\n",
              "      background-color: #434B5C;\n",
              "      box-shadow: 0px 1px 3px 1px rgba(0, 0, 0, 0.15);\n",
              "      filter: drop-shadow(0px 1px 2px rgba(0, 0, 0, 0.3));\n",
              "      fill: #FFFFFF;\n",
              "    }\n",
              "  </style>\n",
              "\n",
              "    <script>\n",
              "      const buttonEl =\n",
              "        document.querySelector('#df-9d749ecf-cd3f-4f9e-8432-02233ed146dd button.colab-df-convert');\n",
              "      buttonEl.style.display =\n",
              "        google.colab.kernel.accessAllowed ? 'block' : 'none';\n",
              "\n",
              "      async function convertToInteractive(key) {\n",
              "        const element = document.querySelector('#df-9d749ecf-cd3f-4f9e-8432-02233ed146dd');\n",
              "        const dataTable =\n",
              "          await google.colab.kernel.invokeFunction('convertToInteractive',\n",
              "                                                    [key], {});\n",
              "        if (!dataTable) return;\n",
              "\n",
              "        const docLinkHtml = 'Like what you see? Visit the ' +\n",
              "          '<a target=\"_blank\" href=https://colab.research.google.com/notebooks/data_table.ipynb>data table notebook</a>'\n",
              "          + ' to learn more about interactive tables.';\n",
              "        element.innerHTML = '';\n",
              "        dataTable['output_type'] = 'display_data';\n",
              "        await google.colab.output.renderOutput(dataTable, element);\n",
              "        const docLink = document.createElement('div');\n",
              "        docLink.innerHTML = docLinkHtml;\n",
              "        element.appendChild(docLink);\n",
              "      }\n",
              "    </script>\n",
              "  </div>\n",
              "\n",
              "\n",
              "<div id=\"df-2b220833-7e37-4a8e-b3c5-7263e6f6f232\">\n",
              "  <button class=\"colab-df-quickchart\" onclick=\"quickchart('df-2b220833-7e37-4a8e-b3c5-7263e6f6f232')\"\n",
              "            title=\"Suggest charts.\"\n",
              "            style=\"display:none;\">\n",
              "\n",
              "<svg xmlns=\"http://www.w3.org/2000/svg\" height=\"24px\"viewBox=\"0 0 24 24\"\n",
              "     width=\"24px\">\n",
              "    <g>\n",
              "        <path d=\"M19 3H5c-1.1 0-2 .9-2 2v14c0 1.1.9 2 2 2h14c1.1 0 2-.9 2-2V5c0-1.1-.9-2-2-2zM9 17H7v-7h2v7zm4 0h-2V7h2v10zm4 0h-2v-4h2v4z\"/>\n",
              "    </g>\n",
              "</svg>\n",
              "  </button>\n",
              "\n",
              "<style>\n",
              "  .colab-df-quickchart {\n",
              "      --bg-color: #E8F0FE;\n",
              "      --fill-color: #1967D2;\n",
              "      --hover-bg-color: #E2EBFA;\n",
              "      --hover-fill-color: #174EA6;\n",
              "      --disabled-fill-color: #AAA;\n",
              "      --disabled-bg-color: #DDD;\n",
              "  }\n",
              "\n",
              "  [theme=dark] .colab-df-quickchart {\n",
              "      --bg-color: #3B4455;\n",
              "      --fill-color: #D2E3FC;\n",
              "      --hover-bg-color: #434B5C;\n",
              "      --hover-fill-color: #FFFFFF;\n",
              "      --disabled-bg-color: #3B4455;\n",
              "      --disabled-fill-color: #666;\n",
              "  }\n",
              "\n",
              "  .colab-df-quickchart {\n",
              "    background-color: var(--bg-color);\n",
              "    border: none;\n",
              "    border-radius: 50%;\n",
              "    cursor: pointer;\n",
              "    display: none;\n",
              "    fill: var(--fill-color);\n",
              "    height: 32px;\n",
              "    padding: 0;\n",
              "    width: 32px;\n",
              "  }\n",
              "\n",
              "  .colab-df-quickchart:hover {\n",
              "    background-color: var(--hover-bg-color);\n",
              "    box-shadow: 0 1px 2px rgba(60, 64, 67, 0.3), 0 1px 3px 1px rgba(60, 64, 67, 0.15);\n",
              "    fill: var(--button-hover-fill-color);\n",
              "  }\n",
              "\n",
              "  .colab-df-quickchart-complete:disabled,\n",
              "  .colab-df-quickchart-complete:disabled:hover {\n",
              "    background-color: var(--disabled-bg-color);\n",
              "    fill: var(--disabled-fill-color);\n",
              "    box-shadow: none;\n",
              "  }\n",
              "\n",
              "  .colab-df-spinner {\n",
              "    border: 2px solid var(--fill-color);\n",
              "    border-color: transparent;\n",
              "    border-bottom-color: var(--fill-color);\n",
              "    animation:\n",
              "      spin 1s steps(1) infinite;\n",
              "  }\n",
              "\n",
              "  @keyframes spin {\n",
              "    0% {\n",
              "      border-color: transparent;\n",
              "      border-bottom-color: var(--fill-color);\n",
              "      border-left-color: var(--fill-color);\n",
              "    }\n",
              "    20% {\n",
              "      border-color: transparent;\n",
              "      border-left-color: var(--fill-color);\n",
              "      border-top-color: var(--fill-color);\n",
              "    }\n",
              "    30% {\n",
              "      border-color: transparent;\n",
              "      border-left-color: var(--fill-color);\n",
              "      border-top-color: var(--fill-color);\n",
              "      border-right-color: var(--fill-color);\n",
              "    }\n",
              "    40% {\n",
              "      border-color: transparent;\n",
              "      border-right-color: var(--fill-color);\n",
              "      border-top-color: var(--fill-color);\n",
              "    }\n",
              "    60% {\n",
              "      border-color: transparent;\n",
              "      border-right-color: var(--fill-color);\n",
              "    }\n",
              "    80% {\n",
              "      border-color: transparent;\n",
              "      border-right-color: var(--fill-color);\n",
              "      border-bottom-color: var(--fill-color);\n",
              "    }\n",
              "    90% {\n",
              "      border-color: transparent;\n",
              "      border-bottom-color: var(--fill-color);\n",
              "    }\n",
              "  }\n",
              "</style>\n",
              "\n",
              "  <script>\n",
              "    async function quickchart(key) {\n",
              "      const quickchartButtonEl =\n",
              "        document.querySelector('#' + key + ' button');\n",
              "      quickchartButtonEl.disabled = true;  // To prevent multiple clicks.\n",
              "      quickchartButtonEl.classList.add('colab-df-spinner');\n",
              "      try {\n",
              "        const charts = await google.colab.kernel.invokeFunction(\n",
              "            'suggestCharts', [key], {});\n",
              "      } catch (error) {\n",
              "        console.error('Error during call to suggestCharts:', error);\n",
              "      }\n",
              "      quickchartButtonEl.classList.remove('colab-df-spinner');\n",
              "      quickchartButtonEl.classList.add('colab-df-quickchart-complete');\n",
              "    }\n",
              "    (() => {\n",
              "      let quickchartButtonEl =\n",
              "        document.querySelector('#df-2b220833-7e37-4a8e-b3c5-7263e6f6f232 button');\n",
              "      quickchartButtonEl.style.display =\n",
              "        google.colab.kernel.accessAllowed ? 'block' : 'none';\n",
              "    })();\n",
              "  </script>\n",
              "</div>\n",
              "    </div>\n",
              "  </div>\n"
            ]
          },
          "metadata": {},
          "execution_count": 4
        }
      ]
    },
    {
      "cell_type": "markdown",
      "source": [
        "The data has been successfully loaded into a DataFrame. Each row represents an edge in the directed graph, with the FromNodeId column indicating the source node and the ToNodeId column indicating the target node."
      ],
      "metadata": {
        "id": "4kfNK_gwc8PP"
      }
    },
    {
      "cell_type": "markdown",
      "source": [
        "  # Step 2: Exploratory Data Analysis (EDA)\n",
        "\n",
        "In this step, we will:\n",
        "\n",
        "Check for any missing values.\n",
        "\n",
        "Get some basic statistics about the nodes.\n",
        "\n",
        "Visualize the degree distribution of the nodes."
      ],
      "metadata": {
        "id": "wVo7Wu3xc_hu"
      }
    },
    {
      "cell_type": "code",
      "source": [
        "# Checking for missing values\n",
        "missing_values = df.isnull().sum()\n",
        "\n",
        "missing_values\n"
      ],
      "metadata": {
        "colab": {
          "base_uri": "https://localhost:8080/"
        },
        "id": "0VChvNrkc43z",
        "outputId": "c1ab25c1-7fa0-468e-cc45-1863084a8206"
      },
      "execution_count": 5,
      "outputs": [
        {
          "output_type": "execute_result",
          "data": {
            "text/plain": [
              "FromNodeId    0\n",
              "ToNodeId      0\n",
              "dtype: int64"
            ]
          },
          "metadata": {},
          "execution_count": 5
        }
      ]
    },
    {
      "cell_type": "code",
      "source": [
        "# Number of unique nodes\n",
        "unique_nodes = pd.concat([df['FromNodeId'], df['ToNodeId']]).nunique()\n",
        "\n",
        "# Number of unique edges\n",
        "unique_edges = len(df.drop_duplicates())\n",
        "\n",
        "unique_nodes, unique_edges\n"
      ],
      "metadata": {
        "colab": {
          "base_uri": "https://localhost:8080/"
        },
        "id": "5VhlmgsJdGXe",
        "outputId": "f62284fd-fff3-48a4-a1da-55823be46aa1"
      },
      "execution_count": 6,
      "outputs": [
        {
          "output_type": "execute_result",
          "data": {
            "text/plain": [
              "(875713, 5105039)"
            ]
          },
          "metadata": {},
          "execution_count": 6
        }
      ]
    },
    {
      "cell_type": "markdown",
      "source": [
        "Here's what we've learned:\n",
        "\n",
        "The dataset contains 875,713 unique nodes, which matches the information provided in the file header.\n",
        "\n",
        "There are 5,105,039 unique edges, which also aligns with the header details."
      ],
      "metadata": {
        "id": "bswOxcNqdM4K"
      }
    },
    {
      "cell_type": "markdown",
      "source": [
        "Degree Distribution Analysis\n",
        "\n",
        "Next, let's analyze the degree distribution of the nodes. Specifically, we'll determine:\n",
        "\n",
        "Out-degree: The number of outgoing links from each node.\n",
        "In-degree: The number of incoming links to each node."
      ],
      "metadata": {
        "id": "5mw4gxzEdRkv"
      }
    },
    {
      "cell_type": "code",
      "source": [
        "import matplotlib.pyplot as plt\n",
        "\n",
        "# Calculating out-degree and in-degree for each node\n",
        "out_degree = df['FromNodeId'].value_counts()\n",
        "in_degree = df['ToNodeId'].value_counts()\n",
        "\n",
        "# Plotting the degree distributions\n",
        "fig, ax = plt.subplots(1, 2, figsize=(14, 5))\n",
        "\n",
        "# Out-degree distribution\n",
        "ax[0].hist(out_degree, bins=50, log=True, color='blue', alpha=0.7)\n",
        "ax[0].set_title('Out-degree Distribution')\n",
        "ax[0].set_xlabel('Out-degree')\n",
        "ax[0].set_ylabel('Number of Nodes (log scale)')\n",
        "ax[0].grid(True, which=\"both\", ls=\"--\")\n",
        "\n",
        "# In-degree distribution\n",
        "ax[1].hist(in_degree, bins=50, log=True, color='green', alpha=0.7)\n",
        "ax[1].set_title('In-degree Distribution')\n",
        "ax[1].set_xlabel('In-degree')\n",
        "ax[1].set_ylabel('Number of Nodes (log scale)')\n",
        "ax[1].grid(True, which=\"both\", ls=\"--\")\n",
        "\n",
        "plt.tight_layout()\n",
        "plt.show()\n"
      ],
      "metadata": {
        "colab": {
          "base_uri": "https://localhost:8080/",
          "height": 507
        },
        "id": "Ji1C9X7ddJr2",
        "outputId": "e5a37a38-ee21-46ba-83e3-22e55db7751c"
      },
      "execution_count": 7,
      "outputs": [
        {
          "output_type": "display_data",
          "data": {
            "text/plain": [
              "<Figure size 1400x500 with 2 Axes>"
            ],
            "image/png": "[encoded data removed]"
          },
          "metadata": {}
        }
      ]
    },
    {
      "cell_type": "markdown",
      "source": [
        "The visualizations show the in-degree and out-degree distributions of the nodes in the web graph. Here's what we can infer from the plots:\n",
        "\n",
        "* Most nodes have a small out-degree, i.e., they link to only a few other pages.\n",
        "* Similarly, most nodes have a small in-degree, meaning that only a few other pages link to them.\n",
        "* Both distributions are right-skewed, which is typical of real-world networks where a few nodes (often termed \"hubs\") are highly connected, while the majority have fewer connections."
      ],
      "metadata": {
        "id": "OM5fuT-MdajE"
      }
    },
    {
      "cell_type": "markdown",
      "source": [
        " Let's delve deeper with more visualizations to better understand the data.\n",
        "\n",
        "* Top Nodes by Out-degree: This will give us an idea of the nodes that link to the most other nodes.\n",
        "* Top Nodes by In-degree: This will show which nodes are most linked to by other nodes.\n",
        "* Cumulative Degree Distribution: To understand what fraction of nodes have a degree less than a given value."
      ],
      "metadata": {
        "id": "bAJj3aIIdlnV"
      }
    },
    {
      "cell_type": "code",
      "source": [
        "# Top 10 nodes by out-degree and in-degree\n",
        "top_out_degree = out_degree.head(10)\n",
        "top_in_degree = in_degree.head(10)\n",
        "\n",
        "fig, ax = plt.subplots(1, 2, figsize=(15, 5))\n",
        "\n",
        "# Top nodes by out-degree\n",
        "top_out_degree.plot(kind='bar', ax=ax[0], color='blue', alpha=0.7)\n",
        "ax[0].set_title('Top 10 Nodes by Out-degree')\n",
        "ax[0].set_xlabel('Node ID')\n",
        "ax[0].set_ylabel('Out-degree')\n",
        "ax[0].grid(axis='y')\n",
        "\n",
        "# Top nodes by in-degree\n",
        "top_in_degree.plot(kind='bar', ax=ax[1], color='green', alpha=0.7)\n",
        "ax[1].set_title('Top 10 Nodes by In-degree')\n",
        "ax[1].set_xlabel('Node ID')\n",
        "ax[1].set_ylabel('In-degree')\n",
        "ax[1].grid(axis='y')\n",
        "\n",
        "plt.tight_layout()\n",
        "plt.show()\n"
      ],
      "metadata": {
        "colab": {
          "base_uri": "https://localhost:8080/",
          "height": 482
        },
        "id": "GWvySpVDdU17",
        "outputId": "b1a1d259-3160-407e-9a82-132ee897de2e"
      },
      "execution_count": 8,
      "outputs": [
        {
          "output_type": "display_data",
          "data": {
            "text/plain": [
              "<Figure size 1500x500 with 2 Axes>"
            ],
            "image/png": "[encoded data removed]"
          },
          "metadata": {}
        }
      ]
    },
    {
      "cell_type": "markdown",
      "source": [
        "The bar charts above depict the top 10 nodes based on out-degree (left) and in-degree (right).\n",
        "\n",
        "The nodes with the highest out-degrees are the ones that link out to the most other nodes. These can be considered \"source hubs\".\n",
        "\n",
        "The nodes with the highest in-degrees are those that are linked to by many other nodes. These can be viewed as \"authoritative\" or \"target hubs\" in the network."
      ],
      "metadata": {
        "id": "HAPNMtrAdxYq"
      }
    },
    {
      "cell_type": "code",
      "source": [
        "# Cumulative degree distributions\n",
        "cumulative_out_degree = (out_degree.value_counts(normalize=True).sort_index().cumsum())\n",
        "cumulative_in_degree = (in_degree.value_counts(normalize=True).sort_index().cumsum())\n",
        "\n",
        "fig, ax = plt.subplots(figsize=(8, 6))\n",
        "cumulative_out_degree.plot(loglog=True, ax=ax, color='blue', label='Out-degree', linewidth=1.5)\n",
        "cumulative_in_degree.plot(loglog=True, ax=ax, color='green', label='In-degree', linewidth=1.5)\n",
        "\n",
        "ax.set_title('Cumulative Degree Distribution')\n",
        "ax.set_xlabel('Degree (log scale)')\n",
        "ax.set_ylabel('Fraction of Nodes with Degree > x (log scale)')\n",
        "ax.grid(True, which=\"both\", ls=\"--\")\n",
        "ax.legend()\n",
        "\n",
        "plt.tight_layout()\n",
        "plt.show()\n"
      ],
      "metadata": {
        "colab": {
          "base_uri": "https://localhost:8080/",
          "height": 607
        },
        "id": "eLfLciuLduyu",
        "outputId": "80aaf690-d269-4f92-f530-cc6221dcfe65"
      },
      "execution_count": 9,
      "outputs": [
        {
          "output_type": "display_data",
          "data": {
            "text/plain": [
              "<Figure size 800x600 with 1 Axes>"
            ],
            "image/png": "[encoded data removed]"
          },
          "metadata": {}
        }
      ]
    },
    {
      "cell_type": "markdown",
      "source": [
        "The plot above showcases the cumulative degree distributions for both in-degree and out-degree on a log-log scale. Here's what we can infer:\n",
        "\n",
        "* The plot is characteristic of many real-world networks, displaying a heavy-tailed distribution. This means that while most nodes have a small degree, a few nodes (hubs) have a very high degree.\n",
        "\n",
        "* The slope of the curve in the log-log plot gives an indication of the power-law exponent, which is a measure of the network's scale-freeness. A straight line in the log-log plot indicates a power-law distribution.\n",
        "\n",
        "This kind of distribution is common in scale-free networks, where a few nodes are highly connected, and many nodes have just a few connections."
      ],
      "metadata": {
        "id": "ToiYNCl2d5yn"
      }
    },
    {
      "cell_type": "markdown",
      "source": [
        "  # Step 3: Data Preparation and Feature Processing.\n",
        "\n",
        "Given that our dataset represents a directed graph, the preparation and feature processing steps will involve transforming the graph data into a form suitable for machine learning tasks. We'll consider the following steps:\n",
        "\n",
        "Graph Representation: Convert the edge list into a graph representation using a library like networkx. This will facilitate further operations.\n",
        "\n",
        "1. Node Features: Extract features for each node, which can include:\n",
        "2. Degree centrality: Importance of a node based on the number of connections it has.\n",
        "  *  Closeness centrality: Measure of the average shortest path from a node to all other nodes.\n",
        "  * Betweenness centrality: Measures the number of times a node lies on the shortest path between other nodes.\n",
        "3. Feature Selection: Depending on the size of the graph and computational constraints, we might need to select a subset of the most informative features."
      ],
      "metadata": {
        "id": "whaI9724eEW_"
      }
    },
    {
      "cell_type": "code",
      "source": [
        "import networkx as nx\n",
        "\n",
        "# Creating a directed graph from the DataFrame\n",
        "G = nx.from_pandas_edgelist(df, 'FromNodeId', 'ToNodeId', create_using=nx.DiGraph())\n",
        "\n",
        "# Checking basic properties of the graph\n",
        "num_nodes = G.number_of_nodes()\n",
        "num_edges = G.number_of_edges()\n",
        "\n",
        "num_nodes, num_edges\n"
      ],
      "metadata": {
        "colab": {
          "base_uri": "https://localhost:8080/"
        },
        "id": "s8HrWNIhd1-S",
        "outputId": "7d73987d-7ba8-4a15-ef56-fc82acec71cb"
      },
      "execution_count": 10,
      "outputs": [
        {
          "output_type": "execute_result",
          "data": {
            "text/plain": [
              "(875713, 5105039)"
            ]
          },
          "metadata": {},
          "execution_count": 10
        }
      ]
    },
    {
      "cell_type": "markdown",
      "source": [
        "The graph has been successfully represented using networkx. It consists of:\n",
        "\n",
        "875,713 nodes\n",
        "5,105,039 edges\n",
        "\n"
      ],
      "metadata": {
        "id": "xMPldDNWeaka"
      }
    },
    {
      "cell_type": "markdown",
      "source": [
        "Node Feature Extraction\n",
        "\n",
        "Next, we'll extract features for each node. Given the large size of the graph, computing some centralities (like closeness and betweenness) can be computationally expensive. Therefore, we'll start by calculating the more feasible metrics: degree centrality."
      ],
      "metadata": {
        "id": "UlpM9AdBfFJp"
      }
    },
    {
      "cell_type": "code",
      "source": [
        "import networkx as nx\n",
        "import pandas as pd\n",
        "\n",
        "# Load the data\n",
        "df = pd.read_csv('/content/gdrive/MyDrive/DataMining/Graph/web-Google.txt', sep='\\t', skiprows=4, header=None, names=['FromNodeId', 'ToNodeId'])\n",
        "\n",
        "# Create a directed graph from the DataFrame\n",
        "G = nx.from_pandas_edgelist(df, 'FromNodeId', 'ToNodeId', create_using=nx.DiGraph())\n",
        "\n",
        "# Sample a subgraph: For demonstration, we'll randomly sample 10,000 nodes and their associated edges\n",
        "sampled_nodes = list(G.nodes())[:10000]\n",
        "subG = G.subgraph(sampled_nodes)\n",
        "\n",
        "# Compute degree centrality for the nodes in the subgraph\n",
        "degree_centrality_subG = nx.degree_centrality(subG)\n",
        "\n",
        "# Convert the centrality measure to a DataFrame\n",
        "df_degree_centrality_subG = pd.DataFrame(degree_centrality_subG.items(), columns=['Node', 'DegreeCentrality'])\n"
      ],
      "metadata": {
        "id": "RQi4lWjNeYMD"
      },
      "execution_count": 13,
      "outputs": []
    },
    {
      "cell_type": "code",
      "source": [
        "df_degree_centrality_subG"
      ],
      "metadata": {
        "colab": {
          "base_uri": "https://localhost:8080/",
          "height": 423
        },
        "id": "riX6bgnpejyX",
        "outputId": "6644ef1c-f3af-46d7-b5fa-a883330df7a1"
      },
      "execution_count": 14,
      "outputs": [
        {
          "output_type": "execute_result",
          "data": {
            "text/plain": [
              "        Node  DegreeCentrality\n",
              "0          0            0.0030\n",
              "1          1            0.0016\n",
              "2          2            0.0039\n",
              "3     196611            0.0001\n",
              "4          4            0.0012\n",
              "...      ...               ...\n",
              "9995  491505            0.0005\n",
              "9996  229362            0.0007\n",
              "9997  360442            0.0049\n",
              "9998  851963            0.0001\n",
              "9999  163837            0.0021\n",
              "\n",
              "[10000 rows x 2 columns]"
            ],
            "text/html": [
              "\n",
              "  <div id=\"df-4baeaa01-2b02-4758-a0c9-25ed871a9845\" class=\"colab-df-container\">\n",
              "    <div>\n",
              "<style scoped>\n",
              "    .dataframe tbody tr th:only-of-type {\n",
              "        vertical-align: middle;\n",
              "    }\n",
              "\n",
              "    .dataframe tbody tr th {\n",
              "        vertical-align: top;\n",
              "    }\n",
              "\n",
              "    .dataframe thead th {\n",
              "        text-align: right;\n",
              "    }\n",
              "</style>\n",
              "<table border=\"1\" class=\"dataframe\">\n",
              "  <thead>\n",
              "    <tr style=\"text-align: right;\">\n",
              "      <th></th>\n",
              "      <th>Node</th>\n",
              "      <th>DegreeCentrality</th>\n",
              "    </tr>\n",
              "  </thead>\n",
              "  <tbody>\n",
              "    <tr>\n",
              "      <th>0</th>\n",
              "      <td>0</td>\n",
              "      <td>0.0030</td>\n",
              "    </tr>\n",
              "    <tr>\n",
              "      <th>1</th>\n",
              "      <td>1</td>\n",
              "      <td>0.0016</td>\n",
              "    </tr>\n",
              "    <tr>\n",
              "      <th>2</th>\n",
              "      <td>2</td>\n",
              "      <td>0.0039</td>\n",
              "    </tr>\n",
              "    <tr>\n",
              "      <th>3</th>\n",
              "      <td>196611</td>\n",
              "      <td>0.0001</td>\n",
              "    </tr>\n",
              "    <tr>\n",
              "      <th>4</th>\n",
              "      <td>4</td>\n",
              "      <td>0.0012</td>\n",
              "    </tr>\n",
              "    <tr>\n",
              "      <th>...</th>\n",
              "      <td>...</td>\n",
              "      <td>...</td>\n",
              "    </tr>\n",
              "    <tr>\n",
              "      <th>9995</th>\n",
              "      <td>491505</td>\n",
              "      <td>0.0005</td>\n",
              "    </tr>\n",
              "    <tr>\n",
              "      <th>9996</th>\n",
              "      <td>229362</td>\n",
              "      <td>0.0007</td>\n",
              "    </tr>\n",
              "    <tr>\n",
              "      <th>9997</th>\n",
              "      <td>360442</td>\n",
              "      <td>0.0049</td>\n",
              "    </tr>\n",
              "    <tr>\n",
              "      <th>9998</th>\n",
              "      <td>851963</td>\n",
              "      <td>0.0001</td>\n",
              "    </tr>\n",
              "    <tr>\n",
              "      <th>9999</th>\n",
              "      <td>163837</td>\n",
              "      <td>0.0021</td>\n",
              "    </tr>\n",
              "  </tbody>\n",
              "</table>\n",
              "<p>10000 rows × 2 columns</p>\n",
              "</div>\n",
              "    <div class=\"colab-df-buttons\">\n",
              "\n",
              "  <div class=\"colab-df-container\">\n",
              "    <button class=\"colab-df-convert\" onclick=\"convertToInteractive('df-4baeaa01-2b02-4758-a0c9-25ed871a9845')\"\n",
              "            title=\"Convert this dataframe to an interactive table.\"\n",
              "            style=\"display:none;\">\n",
              "\n",
              "  <svg xmlns=\"http://www.w3.org/2000/svg\" height=\"24px\" viewBox=\"0 -960 960 960\">\n",
              "    <path d=\"M120-120v-720h720v720H120Zm60-500h600v-160H180v160Zm220 220h160v-160H400v160Zm0 220h160v-160H400v160ZM180-400h160v-160H180v160Zm440 0h160v-160H620v160ZM180-180h160v-160H180v160Zm440 0h160v-160H620v160Z\"/>\n",
              "  </svg>\n",
              "    </button>\n",
              "\n",
              "  <style>\n",
              "    .colab-df-container {\n",
              "      display:flex;\n",
              "      gap: 12px;\n",
              "    }\n",
              "\n",
              "    .colab-df-convert {\n",
              "      background-color: #E8F0FE;\n",
              "      border: none;\n",
              "      border-radius: 50%;\n",
              "      cursor: pointer;\n",
              "      display: none;\n",
              "      fill: #1967D2;\n",
              "      height: 32px;\n",
              "      padding: 0 0 0 0;\n",
              "      width: 32px;\n",
              "    }\n",
              "\n",
              "    .colab-df-convert:hover {\n",
              "      background-color: #E2EBFA;\n",
              "      box-shadow: 0px 1px 2px rgba(60, 64, 67, 0.3), 0px 1px 3px 1px rgba(60, 64, 67, 0.15);\n",
              "      fill: #174EA6;\n",
              "    }\n",
              "\n",
              "    .colab-df-buttons div {\n",
              "      margin-bottom: 4px;\n",
              "    }\n",
              "\n",
              "    [theme=dark] .colab-df-convert {\n",
              "      background-color: #3B4455;\n",
              "      fill: #D2E3FC;\n",
              "    }\n",
              "\n",
              "    [theme=dark] .colab-df-convert:hover {\n",
              "      background-color: #434B5C;\n",
              "      box-shadow: 0px 1px 3px 1px rgba(0, 0, 0, 0.15);\n",
              "      filter: drop-shadow(0px 1px 2px rgba(0, 0, 0, 0.3));\n",
              "      fill: #FFFFFF;\n",
              "    }\n",
              "  </style>\n",
              "\n",
              "    <script>\n",
              "      const buttonEl =\n",
              "        document.querySelector('#df-4baeaa01-2b02-4758-a0c9-25ed871a9845 button.colab-df-convert');\n",
              "      buttonEl.style.display =\n",
              "        google.colab.kernel.accessAllowed ? 'block' : 'none';\n",
              "\n",
              "      async function convertToInteractive(key) {\n",
              "        const element = document.querySelector('#df-4baeaa01-2b02-4758-a0c9-25ed871a9845');\n",
              "        const dataTable =\n",
              "          await google.colab.kernel.invokeFunction('convertToInteractive',\n",
              "                                                    [key], {});\n",
              "        if (!dataTable) return;\n",
              "\n",
              "        const docLinkHtml = 'Like what you see? Visit the ' +\n",
              "          '<a target=\"_blank\" href=https://colab.research.google.com/notebooks/data_table.ipynb>data table notebook</a>'\n",
              "          + ' to learn more about interactive tables.';\n",
              "        element.innerHTML = '';\n",
              "        dataTable['output_type'] = 'display_data';\n",
              "        await google.colab.output.renderOutput(dataTable, element);\n",
              "        const docLink = document.createElement('div');\n",
              "        docLink.innerHTML = docLinkHtml;\n",
              "        element.appendChild(docLink);\n",
              "      }\n",
              "    </script>\n",
              "  </div>\n",
              "\n",
              "\n",
              "<div id=\"df-418abda8-99b2-4284-ac5e-d7876c183f55\">\n",
              "  <button class=\"colab-df-quickchart\" onclick=\"quickchart('df-418abda8-99b2-4284-ac5e-d7876c183f55')\"\n",
              "            title=\"Suggest charts.\"\n",
              "            style=\"display:none;\">\n",
              "\n",
              "<svg xmlns=\"http://www.w3.org/2000/svg\" height=\"24px\"viewBox=\"0 0 24 24\"\n",
              "     width=\"24px\">\n",
              "    <g>\n",
              "        <path d=\"M19 3H5c-1.1 0-2 .9-2 2v14c0 1.1.9 2 2 2h14c1.1 0 2-.9 2-2V5c0-1.1-.9-2-2-2zM9 17H7v-7h2v7zm4 0h-2V7h2v10zm4 0h-2v-4h2v4z\"/>\n",
              "    </g>\n",
              "</svg>\n",
              "  </button>\n",
              "\n",
              "<style>\n",
              "  .colab-df-quickchart {\n",
              "      --bg-color: #E8F0FE;\n",
              "      --fill-color: #1967D2;\n",
              "      --hover-bg-color: #E2EBFA;\n",
              "      --hover-fill-color: #174EA6;\n",
              "      --disabled-fill-color: #AAA;\n",
              "      --disabled-bg-color: #DDD;\n",
              "  }\n",
              "\n",
              "  [theme=dark] .colab-df-quickchart {\n",
              "      --bg-color: #3B4455;\n",
              "      --fill-color: #D2E3FC;\n",
              "      --hover-bg-color: #434B5C;\n",
              "      --hover-fill-color: #FFFFFF;\n",
              "      --disabled-bg-color: #3B4455;\n",
              "      --disabled-fill-color: #666;\n",
              "  }\n",
              "\n",
              "  .colab-df-quickchart {\n",
              "    background-color: var(--bg-color);\n",
              "    border: none;\n",
              "    border-radius: 50%;\n",
              "    cursor: pointer;\n",
              "    display: none;\n",
              "    fill: var(--fill-color);\n",
              "    height: 32px;\n",
              "    padding: 0;\n",
              "    width: 32px;\n",
              "  }\n",
              "\n",
              "  .colab-df-quickchart:hover {\n",
              "    background-color: var(--hover-bg-color);\n",
              "    box-shadow: 0 1px 2px rgba(60, 64, 67, 0.3), 0 1px 3px 1px rgba(60, 64, 67, 0.15);\n",
              "    fill: var(--button-hover-fill-color);\n",
              "  }\n",
              "\n",
              "  .colab-df-quickchart-complete:disabled,\n",
              "  .colab-df-quickchart-complete:disabled:hover {\n",
              "    background-color: var(--disabled-bg-color);\n",
              "    fill: var(--disabled-fill-color);\n",
              "    box-shadow: none;\n",
              "  }\n",
              "\n",
              "  .colab-df-spinner {\n",
              "    border: 2px solid var(--fill-color);\n",
              "    border-color: transparent;\n",
              "    border-bottom-color: var(--fill-color);\n",
              "    animation:\n",
              "      spin 1s steps(1) infinite;\n",
              "  }\n",
              "\n",
              "  @keyframes spin {\n",
              "    0% {\n",
              "      border-color: transparent;\n",
              "      border-bottom-color: var(--fill-color);\n",
              "      border-left-color: var(--fill-color);\n",
              "    }\n",
              "    20% {\n",
              "      border-color: transparent;\n",
              "      border-left-color: var(--fill-color);\n",
              "      border-top-color: var(--fill-color);\n",
              "    }\n",
              "    30% {\n",
              "      border-color: transparent;\n",
              "      border-left-color: var(--fill-color);\n",
              "      border-top-color: var(--fill-color);\n",
              "      border-right-color: var(--fill-color);\n",
              "    }\n",
              "    40% {\n",
              "      border-color: transparent;\n",
              "      border-right-color: var(--fill-color);\n",
              "      border-top-color: var(--fill-color);\n",
              "    }\n",
              "    60% {\n",
              "      border-color: transparent;\n",
              "      border-right-color: var(--fill-color);\n",
              "    }\n",
              "    80% {\n",
              "      border-color: transparent;\n",
              "      border-right-color: var(--fill-color);\n",
              "      border-bottom-color: var(--fill-color);\n",
              "    }\n",
              "    90% {\n",
              "      border-color: transparent;\n",
              "      border-bottom-color: var(--fill-color);\n",
              "    }\n",
              "  }\n",
              "</style>\n",
              "\n",
              "  <script>\n",
              "    async function quickchart(key) {\n",
              "      const quickchartButtonEl =\n",
              "        document.querySelector('#' + key + ' button');\n",
              "      quickchartButtonEl.disabled = true;  // To prevent multiple clicks.\n",
              "      quickchartButtonEl.classList.add('colab-df-spinner');\n",
              "      try {\n",
              "        const charts = await google.colab.kernel.invokeFunction(\n",
              "            'suggestCharts', [key], {});\n",
              "      } catch (error) {\n",
              "        console.error('Error during call to suggestCharts:', error);\n",
              "      }\n",
              "      quickchartButtonEl.classList.remove('colab-df-spinner');\n",
              "      quickchartButtonEl.classList.add('colab-df-quickchart-complete');\n",
              "    }\n",
              "    (() => {\n",
              "      let quickchartButtonEl =\n",
              "        document.querySelector('#df-418abda8-99b2-4284-ac5e-d7876c183f55 button');\n",
              "      quickchartButtonEl.style.display =\n",
              "        google.colab.kernel.accessAllowed ? 'block' : 'none';\n",
              "    })();\n",
              "  </script>\n",
              "</div>\n",
              "    </div>\n",
              "  </div>\n"
            ]
          },
          "metadata": {},
          "execution_count": 14
        }
      ]
    },
    {
      "cell_type": "markdown",
      "source": [
        "  # Step 4: Anomaly Detection.\n",
        "\n",
        "Anomaly Detection: Anomalies in graphs can be nodes that do not fit well within their assigned clusters or edges that are unexpected given the community structure. We'll identify nodes that have lower modularity as potential anomalies."
      ],
      "metadata": {
        "id": "TszzLG6HfsJr"
      }
    },
    {
      "cell_type": "markdown",
      "source": [
        "For graph data, anomalies can be nodes or edges that deviate from the norm. In our context, we'll focus on node anomalies. We'll use node centrality as a feature and treat nodes with extreme centrality values as potential anomalies.\n",
        "\n",
        "One approach to anomaly detection is to use the Isolation Forest algorithm, which is particularly efficient for detecting anomalies in large datasets.\n",
        "\n",
        "Steps for Anomaly Detection:\n",
        "\n",
        "* Feature Extraction: Use node centrality as a feature.\n",
        "* Model Selection: Use the Isolation Forest model for anomaly detection.\n",
        "* Model Training and Anomaly Detection: Train the model and predict anomalies."
      ],
      "metadata": {
        "id": "SJaMEkfFhdtS"
      }
    },
    {
      "cell_type": "code",
      "source": [
        "from sklearn.ensemble import IsolationForest\n",
        "\n",
        "# 1. Feature Extraction\n",
        "# We already have the degree centrality as a feature in df_degree_centrality\n",
        "X_anomaly = df_degree_centrality_subG[['DegreeCentrality']]\n",
        "\n",
        "# 2. Model Selection\n",
        "# Initialize Isolation Forest model\n",
        "iso_forest = IsolationForest(contamination=0.05)  # Assume 5% of the data are anomalies\n",
        "\n",
        "# 3. Model Training and Anomaly Detection\n",
        "anomaly_predictions = iso_forest.fit_predict(X_anomaly)\n",
        "\n",
        "# Extracting the anomalies (where prediction is -1)\n",
        "anomalies = df_degree_centrality_subG[anomaly_predictions == -1]\n",
        "\n",
        "anomalies.head()\n"
      ],
      "metadata": {
        "colab": {
          "base_uri": "https://localhost:8080/",
          "height": 241
        },
        "id": "RHGeDHzXfYQ2",
        "outputId": "971032b2-4509-41e0-a882-7b177f03be67"
      },
      "execution_count": 20,
      "outputs": [
        {
          "output_type": "stream",
          "name": "stderr",
          "text": [
            "/usr/local/lib/python3.10/dist-packages/sklearn/base.py:439: UserWarning: X does not have valid feature names, but IsolationForest was fitted with feature names\n",
            "  warnings.warn(\n"
          ]
        },
        {
          "output_type": "execute_result",
          "data": {
            "text/plain": [
              "       Node  DegreeCentrality\n",
              "70       71          0.009401\n",
              "83       85          0.004900\n",
              "104     106          0.007401\n",
              "138  458892          0.005601\n",
              "186     183          0.006301"
            ],
            "text/html": [
              "\n",
              "  <div id=\"df-8a812048-06ea-4b69-a83d-c8e636da3d7e\" class=\"colab-df-container\">\n",
              "    <div>\n",
              "<style scoped>\n",
              "    .dataframe tbody tr th:only-of-type {\n",
              "        vertical-align: middle;\n",
              "    }\n",
              "\n",
              "    .dataframe tbody tr th {\n",
              "        vertical-align: top;\n",
              "    }\n",
              "\n",
              "    .dataframe thead th {\n",
              "        text-align: right;\n",
              "    }\n",
              "</style>\n",
              "<table border=\"1\" class=\"dataframe\">\n",
              "  <thead>\n",
              "    <tr style=\"text-align: right;\">\n",
              "      <th></th>\n",
              "      <th>Node</th>\n",
              "      <th>DegreeCentrality</th>\n",
              "    </tr>\n",
              "  </thead>\n",
              "  <tbody>\n",
              "    <tr>\n",
              "      <th>70</th>\n",
              "      <td>71</td>\n",
              "      <td>0.009401</td>\n",
              "    </tr>\n",
              "    <tr>\n",
              "      <th>83</th>\n",
              "      <td>85</td>\n",
              "      <td>0.004900</td>\n",
              "    </tr>\n",
              "    <tr>\n",
              "      <th>104</th>\n",
              "      <td>106</td>\n",
              "      <td>0.007401</td>\n",
              "    </tr>\n",
              "    <tr>\n",
              "      <th>138</th>\n",
              "      <td>458892</td>\n",
              "      <td>0.005601</td>\n",
              "    </tr>\n",
              "    <tr>\n",
              "      <th>186</th>\n",
              "      <td>183</td>\n",
              "      <td>0.006301</td>\n",
              "    </tr>\n",
              "  </tbody>\n",
              "</table>\n",
              "</div>\n",
              "    <div class=\"colab-df-buttons\">\n",
              "\n",
              "  <div class=\"colab-df-container\">\n",
              "    <button class=\"colab-df-convert\" onclick=\"convertToInteractive('df-8a812048-06ea-4b69-a83d-c8e636da3d7e')\"\n",
              "            title=\"Convert this dataframe to an interactive table.\"\n",
              "            style=\"display:none;\">\n",
              "\n",
              "  <svg xmlns=\"http://www.w3.org/2000/svg\" height=\"24px\" viewBox=\"0 -960 960 960\">\n",
              "    <path d=\"M120-120v-720h720v720H120Zm60-500h600v-160H180v160Zm220 220h160v-160H400v160Zm0 220h160v-160H400v160ZM180-400h160v-160H180v160Zm440 0h160v-160H620v160ZM180-180h160v-160H180v160Zm440 0h160v-160H620v160Z\"/>\n",
              "  </svg>\n",
              "    </button>\n",
              "\n",
              "  <style>\n",
              "    .colab-df-container {\n",
              "      display:flex;\n",
              "      gap: 12px;\n",
              "    }\n",
              "\n",
              "    .colab-df-convert {\n",
              "      background-color: #E8F0FE;\n",
              "      border: none;\n",
              "      border-radius: 50%;\n",
              "      cursor: pointer;\n",
              "      display: none;\n",
              "      fill: #1967D2;\n",
              "      height: 32px;\n",
              "      padding: 0 0 0 0;\n",
              "      width: 32px;\n",
              "    }\n",
              "\n",
              "    .colab-df-convert:hover {\n",
              "      background-color: #E2EBFA;\n",
              "      box-shadow: 0px 1px 2px rgba(60, 64, 67, 0.3), 0px 1px 3px 1px rgba(60, 64, 67, 0.15);\n",
              "      fill: #174EA6;\n",
              "    }\n",
              "\n",
              "    .colab-df-buttons div {\n",
              "      margin-bottom: 4px;\n",
              "    }\n",
              "\n",
              "    [theme=dark] .colab-df-convert {\n",
              "      background-color: #3B4455;\n",
              "      fill: #D2E3FC;\n",
              "    }\n",
              "\n",
              "    [theme=dark] .colab-df-convert:hover {\n",
              "      background-color: #434B5C;\n",
              "      box-shadow: 0px 1px 3px 1px rgba(0, 0, 0, 0.15);\n",
              "      filter: drop-shadow(0px 1px 2px rgba(0, 0, 0, 0.3));\n",
              "      fill: #FFFFFF;\n",
              "    }\n",
              "  </style>\n",
              "\n",
              "    <script>\n",
              "      const buttonEl =\n",
              "        document.querySelector('#df-8a812048-06ea-4b69-a83d-c8e636da3d7e button.colab-df-convert');\n",
              "      buttonEl.style.display =\n",
              "        google.colab.kernel.accessAllowed ? 'block' : 'none';\n",
              "\n",
              "      async function convertToInteractive(key) {\n",
              "        const element = document.querySelector('#df-8a812048-06ea-4b69-a83d-c8e636da3d7e');\n",
              "        const dataTable =\n",
              "          await google.colab.kernel.invokeFunction('convertToInteractive',\n",
              "                                                    [key], {});\n",
              "        if (!dataTable) return;\n",
              "\n",
              "        const docLinkHtml = 'Like what you see? Visit the ' +\n",
              "          '<a target=\"_blank\" href=https://colab.research.google.com/notebooks/data_table.ipynb>data table notebook</a>'\n",
              "          + ' to learn more about interactive tables.';\n",
              "        element.innerHTML = '';\n",
              "        dataTable['output_type'] = 'display_data';\n",
              "        await google.colab.output.renderOutput(dataTable, element);\n",
              "        const docLink = document.createElement('div');\n",
              "        docLink.innerHTML = docLinkHtml;\n",
              "        element.appendChild(docLink);\n",
              "      }\n",
              "    </script>\n",
              "  </div>\n",
              "\n",
              "\n",
              "<div id=\"df-7485d403-b0d6-4550-8d08-0902862d9a7f\">\n",
              "  <button class=\"colab-df-quickchart\" onclick=\"quickchart('df-7485d403-b0d6-4550-8d08-0902862d9a7f')\"\n",
              "            title=\"Suggest charts.\"\n",
              "            style=\"display:none;\">\n",
              "\n",
              "<svg xmlns=\"http://www.w3.org/2000/svg\" height=\"24px\"viewBox=\"0 0 24 24\"\n",
              "     width=\"24px\">\n",
              "    <g>\n",
              "        <path d=\"M19 3H5c-1.1 0-2 .9-2 2v14c0 1.1.9 2 2 2h14c1.1 0 2-.9 2-2V5c0-1.1-.9-2-2-2zM9 17H7v-7h2v7zm4 0h-2V7h2v10zm4 0h-2v-4h2v4z\"/>\n",
              "    </g>\n",
              "</svg>\n",
              "  </button>\n",
              "\n",
              "<style>\n",
              "  .colab-df-quickchart {\n",
              "      --bg-color: #E8F0FE;\n",
              "      --fill-color: #1967D2;\n",
              "      --hover-bg-color: #E2EBFA;\n",
              "      --hover-fill-color: #174EA6;\n",
              "      --disabled-fill-color: #AAA;\n",
              "      --disabled-bg-color: #DDD;\n",
              "  }\n",
              "\n",
              "  [theme=dark] .colab-df-quickchart {\n",
              "      --bg-color: #3B4455;\n",
              "      --fill-color: #D2E3FC;\n",
              "      --hover-bg-color: #434B5C;\n",
              "      --hover-fill-color: #FFFFFF;\n",
              "      --disabled-bg-color: #3B4455;\n",
              "      --disabled-fill-color: #666;\n",
              "  }\n",
              "\n",
              "  .colab-df-quickchart {\n",
              "    background-color: var(--bg-color);\n",
              "    border: none;\n",
              "    border-radius: 50%;\n",
              "    cursor: pointer;\n",
              "    display: none;\n",
              "    fill: var(--fill-color);\n",
              "    height: 32px;\n",
              "    padding: 0;\n",
              "    width: 32px;\n",
              "  }\n",
              "\n",
              "  .colab-df-quickchart:hover {\n",
              "    background-color: var(--hover-bg-color);\n",
              "    box-shadow: 0 1px 2px rgba(60, 64, 67, 0.3), 0 1px 3px 1px rgba(60, 64, 67, 0.15);\n",
              "    fill: var(--button-hover-fill-color);\n",
              "  }\n",
              "\n",
              "  .colab-df-quickchart-complete:disabled,\n",
              "  .colab-df-quickchart-complete:disabled:hover {\n",
              "    background-color: var(--disabled-bg-color);\n",
              "    fill: var(--disabled-fill-color);\n",
              "    box-shadow: none;\n",
              "  }\n",
              "\n",
              "  .colab-df-spinner {\n",
              "    border: 2px solid var(--fill-color);\n",
              "    border-color: transparent;\n",
              "    border-bottom-color: var(--fill-color);\n",
              "    animation:\n",
              "      spin 1s steps(1) infinite;\n",
              "  }\n",
              "\n",
              "  @keyframes spin {\n",
              "    0% {\n",
              "      border-color: transparent;\n",
              "      border-bottom-color: var(--fill-color);\n",
              "      border-left-color: var(--fill-color);\n",
              "    }\n",
              "    20% {\n",
              "      border-color: transparent;\n",
              "      border-left-color: var(--fill-color);\n",
              "      border-top-color: var(--fill-color);\n",
              "    }\n",
              "    30% {\n",
              "      border-color: transparent;\n",
              "      border-left-color: var(--fill-color);\n",
              "      border-top-color: var(--fill-color);\n",
              "      border-right-color: var(--fill-color);\n",
              "    }\n",
              "    40% {\n",
              "      border-color: transparent;\n",
              "      border-right-color: var(--fill-color);\n",
              "      border-top-color: var(--fill-color);\n",
              "    }\n",
              "    60% {\n",
              "      border-color: transparent;\n",
              "      border-right-color: var(--fill-color);\n",
              "    }\n",
              "    80% {\n",
              "      border-color: transparent;\n",
              "      border-right-color: var(--fill-color);\n",
              "      border-bottom-color: var(--fill-color);\n",
              "    }\n",
              "    90% {\n",
              "      border-color: transparent;\n",
              "      border-bottom-color: var(--fill-color);\n",
              "    }\n",
              "  }\n",
              "</style>\n",
              "\n",
              "  <script>\n",
              "    async function quickchart(key) {\n",
              "      const quickchartButtonEl =\n",
              "        document.querySelector('#' + key + ' button');\n",
              "      quickchartButtonEl.disabled = true;  // To prevent multiple clicks.\n",
              "      quickchartButtonEl.classList.add('colab-df-spinner');\n",
              "      try {\n",
              "        const charts = await google.colab.kernel.invokeFunction(\n",
              "            'suggestCharts', [key], {});\n",
              "      } catch (error) {\n",
              "        console.error('Error during call to suggestCharts:', error);\n",
              "      }\n",
              "      quickchartButtonEl.classList.remove('colab-df-spinner');\n",
              "      quickchartButtonEl.classList.add('colab-df-quickchart-complete');\n",
              "    }\n",
              "    (() => {\n",
              "      let quickchartButtonEl =\n",
              "        document.querySelector('#df-7485d403-b0d6-4550-8d08-0902862d9a7f button');\n",
              "      quickchartButtonEl.style.display =\n",
              "        google.colab.kernel.accessAllowed ? 'block' : 'none';\n",
              "    })();\n",
              "  </script>\n",
              "</div>\n",
              "    </div>\n",
              "  </div>\n"
            ]
          },
          "metadata": {},
          "execution_count": 20
        }
      ]
    },
    {
      "cell_type": "markdown",
      "source": [
        "  # Step 5: Model Selection & Training\n",
        "\n",
        "Given our data, a common task is link prediction, where the goal is to predict whether a link (edge) should exist between two nodes. This can be framed as a binary classification problem.\n",
        "\n",
        "Here's the general approach we'll take:\n",
        "\n",
        "Feature Generation for Link Prediction: We'll create positive samples (existing edges) and negative samples (nonexistent edges). We'll generate features such as common neighbors, Jaccard coefficient, and preferential attachment score for each pair.\n",
        "\n",
        "Model Selection: We'll use a classification model. Given the nature of the data, tree-based models like Random Forest or gradient-boosted trees (e.g., XGBoost) could be suitable.\n",
        "\n",
        "Training: We'll split the data into training and test sets, train the chosen model."
      ],
      "metadata": {
        "id": "KOkvuNLyhF5J"
      }
    },
    {
      "cell_type": "code",
      "source": [
        "import random\n",
        "\n",
        "# 1. Feature Generation for Link Prediction\n",
        "# Make an undirected copy of the subgraph for the purpose of these calculations\n",
        "\n",
        "\n",
        "\n",
        "# Generate positive samples (existing edges) and negative samples (nonexistent edges)\n",
        "positive_samples = list(subG.edges())\n",
        "negative_samples = list(nx.non_edges(subG))\n",
        "random.shuffle(negative_samples)\n",
        "negative_samples = negative_samples[:len(positive_samples)]  # balance positive and negative samples\n",
        "\n",
        "# Feature: Common Neighbors\n",
        "def common_neighbors(graph, node_pairs):\n",
        "    return [len(list(nx.common_neighbors(graph, u, v))) for u, v in node_pairs]\n",
        "\n",
        "# Feature: Jaccard Coefficient\n",
        "def jaccard_coefficient(graph, node_pairs):\n",
        "    return [p for u, v, p in nx.jaccard_coefficient(graph, node_pairs)]\n",
        "\n",
        "# Feature: Preferential Attachment\n",
        "def preferential_attachment(graph, node_pairs):\n",
        "    return [p for u, v, p in nx.preferential_attachment(graph, node_pairs)]\n",
        "\n",
        "\n",
        "\n",
        "subG_undirected = subG.to_undirected()\n",
        "\n",
        "# Generating features for positive and negative samples using the undirected graph\n",
        "X_positive = list(zip(\n",
        "    common_neighbors(subG_undirected, positive_samples),\n",
        "    jaccard_coefficient(subG_undirected, positive_samples),\n",
        "    preferential_attachment(subG_undirected, positive_samples)\n",
        "))\n",
        "\n",
        "# Generating features for positive and negative samples\n",
        "y_positive = [1] * len(positive_samples)\n",
        "\n",
        "X_negative = list(zip(\n",
        "    common_neighbors(subG_undirected, negative_samples),\n",
        "    jaccard_coefficient(subG_undirected, negative_samples),\n",
        "    preferential_attachment(subG_undirected, negative_samples)\n",
        "))\n",
        "y_negative = [0] * len(negative_samples)\n",
        "\n",
        "# Combine positive and negative samples\n",
        "X = X_positive + X_negative\n",
        "y = y_positive + y_negative\n"
      ],
      "metadata": {
        "id": "w0VkSBinhN4U"
      },
      "execution_count": 22,
      "outputs": []
    },
    {
      "cell_type": "code",
      "source": [
        "from sklearn.model_selection import train_test_split\n",
        "from sklearn.ensemble import RandomForestClassifier\n",
        "from sklearn.metrics import classification_report, accuracy_score\n",
        "\n",
        "# 1. Data Splitting\n",
        "X_train, X_test, y_train, y_test = train_test_split(X, y, test_size=0.3, random_state=42)\n",
        "\n",
        "# 2. Model Selection\n",
        "clf = RandomForestClassifier(n_estimators=100, random_state=42)\n",
        "\n",
        "# 3. Training\n",
        "clf.fit(X_train, y_train)\n",
        "\n",
        "# 4. Evaluation\n",
        "y_pred = clf.predict(X_test)\n",
        "accuracy = accuracy_score(y_test, y_pred)\n",
        "report = classification_report(y_test, y_pred)\n",
        "\n",
        "print(f\"Accuracy: {accuracy}\")\n",
        "print(report)\n",
        "\n"
      ],
      "metadata": {
        "colab": {
          "base_uri": "https://localhost:8080/"
        },
        "id": "0MAAv7OGmHaz",
        "outputId": "79426eb3-f15a-416a-e564-636d32136494"
      },
      "execution_count": 23,
      "outputs": [
        {
          "output_type": "stream",
          "name": "stdout",
          "text": [
            "Accuracy: 0.9819338638975188\n",
            "              precision    recall  f1-score   support\n",
            "\n",
            "           0       0.97      0.99      0.98     23534\n",
            "           1       0.99      0.97      0.98     23460\n",
            "\n",
            "    accuracy                           0.98     46994\n",
            "   macro avg       0.98      0.98      0.98     46994\n",
            "weighted avg       0.98      0.98      0.98     46994\n",
            "\n"
          ]
        }
      ]
    },
    {
      "cell_type": "code",
      "source": [],
      "metadata": {
        "id": "1p6F_MHar4LF"
      },
      "execution_count": null,
      "outputs": []
    }
  ]
}